import pandas
df = pandas.read_csv('./dataset/app_list.csv')
print(df)
